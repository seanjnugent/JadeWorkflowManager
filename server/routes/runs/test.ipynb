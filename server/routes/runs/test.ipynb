{
 "cells": [
  {
   "cell_type": "code",
   "execution_count": 1,
   "id": "422640dd",
   "metadata": {},
   "outputs": [
    {
     "name": "stdout",
     "output_type": "stream",
     "text": [
      "Encrypted API key: gAAAAABoe4CSbFy3SEIo0_rgIYJwl9N-xz-jTO9VCTitwbmnZ0v3LaLzeaoHDofAPdUd-OMyM47cta5bxNYdp2TyETIxix5pyhmv7oLfy4pndUyMCoVxnht2OQ5GcvFVBoSc_iFHdVvd\n"
     ]
    }
   ],
   "source": [
    "from cryptography.fernet import Fernet\n",
    "import os\n",
    "\n",
    "# Assuming ENCRYPTION_KEY is set in the environment\n",
    "encryption_key = os.getenv(\"ENCRYPTION_KEY\")\n",
    "if not encryption_key:\n",
    "    raise ValueError(\"ENCRYPTION_KEY environment variable not set\")\n",
    "\n",
    "fernet = Fernet(encryption_key)\n",
    "api_key = \"caca12ed88e4c235ae4a684d6b3df01a27748445\"\n",
    "encrypted_api_key = fernet.encrypt(api_key.encode()).decode()\n",
    "print(f\"Encrypted API key: {encrypted_api_key}\")"
   ]
  }
 ],
 "metadata": {
  "kernelspec": {
   "display_name": ".venv",
   "language": "python",
   "name": "python3"
  },
  "language_info": {
   "codemirror_mode": {
    "name": "ipython",
    "version": 3
   },
   "file_extension": ".py",
   "mimetype": "text/x-python",
   "name": "python",
   "nbconvert_exporter": "python",
   "pygments_lexer": "ipython3",
   "version": "3.11.9"
  }
 },
 "nbformat": 4,
 "nbformat_minor": 5
}
